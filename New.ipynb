{
 "cells": [
  {
   "cell_type": "code",
   "execution_count": 1,
   "metadata": {},
   "outputs": [
    {
     "name": "stdout",
     "output_type": "stream",
     "text": [
      "Hello World\n"
     ]
    }
   ],
   "source": [
    "print(\"Hello World\")"
   ]
  },
  {
   "cell_type": "code",
   "execution_count": 13,
   "metadata": {},
   "outputs": [
    {
     "name": "stdout",
     "output_type": "stream",
     "text": [
      "Enter num:10\n",
      "enter num:2\n",
      "division= 5.0\n"
     ]
    }
   ],
   "source": [
    "i=int(input(\"Enter num:\"))\n",
    "y=int(input(\"enter num:\"))\n",
    "div=i/y;\n",
    "print(\"division=\",div);"
   ]
  },
  {
   "cell_type": "code",
   "execution_count": 12,
   "metadata": {},
   "outputs": [
    {
     "name": "stdout",
     "output_type": "stream",
     "text": [
      "Enter num:1\n",
      "enter num:2\n",
      "multi= 2\n"
     ]
    }
   ],
   "source": [
    "i=int(input(\"Enter num:\"))\n",
    "y=int(input(\"enter num:\"))\n",
    "multi=i*y;\n",
    "print(\"multi=\",multi);"
   ]
  },
  {
   "cell_type": "code",
   "execution_count": 11,
   "metadata": {},
   "outputs": [
    {
     "name": "stdout",
     "output_type": "stream",
     "text": [
      "Enter num:1\n",
      "enter num:2\n",
      "sub= -1\n"
     ]
    }
   ],
   "source": [
    "\n",
    "i=int(input(\"Enter num:\"))\n",
    "y=int(input(\"enter num:\"))\n",
    "sub=i-y;\n",
    "print(\"sub=\",sub);"
   ]
  },
  {
   "cell_type": "code",
   "execution_count": 10,
   "metadata": {},
   "outputs": [
    {
     "name": "stdout",
     "output_type": "stream",
     "text": [
      "Enter num:1\n",
      "enter num:2\n",
      "add= 3\n"
     ]
    }
   ],
   "source": [
    "i=int(input(\"Enter num:\"))\n",
    "y=int(input(\"enter num:\"))\n",
    "add=i+y;\n",
    "print(\"add=\",add);\n",
    "    "
   ]
  }
 ],
 "metadata": {
  "kernelspec": {
   "display_name": "Python 3 (ipykernel)",
   "language": "python",
   "name": "python3"
  },
  "language_info": {
   "codemirror_mode": {
    "name": "ipython",
    "version": 3
   },
   "file_extension": ".py",
   "mimetype": "text/x-python",
   "name": "python",
   "nbconvert_exporter": "python",
   "pygments_lexer": "ipython3",
   "version": "3.10.5"
  }
 },
 "nbformat": 4,
 "nbformat_minor": 4
}
